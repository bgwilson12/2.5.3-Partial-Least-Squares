{
 "cells": [
  {
   "cell_type": "code",
   "execution_count": 1,
   "metadata": {
    "collapsed": false
   },
   "outputs": [],
   "source": [
    "import math\n",
    "import warnings\n",
    "\n",
    "from matplotlib import pyplot as plt\n",
    "import numpy as np\n",
    "import pandas as pd\n",
    "import seaborn as sns\n",
    "from sklearn import linear_model\n",
    "from sklearn.cross_decomposition import PLSRegression\n",
    "\n",
    "%matplotlib inline\n",
    "sns.set_style('white')\n",
    "\n",
    "# Suppress annoying harmless error.\n",
    "warnings.filterwarnings(\n",
    "    action=\"ignore\",\n",
    "    module=\"scipy\",\n",
    "    message=\"^internal gelsd\"\n",
    ")"
   ]
  },
  {
   "cell_type": "markdown",
   "metadata": {
    "run_control": {
     "frozen": false,
     "read_only": false
    }
   },
   "source": [
    "## Dimensionality Reduction in Linear Regression\n",
    "\n",
    "Having a lot of features can cause problems. The more features in your regression the more complex the model, and the longer it takes to run.  Variance in the features that is unrelated to the outcome $Y$ may create noise in predictions (especially when that variance is shared among features in multicollinearity), and more features also means more unrelated variance and thus more noise.  Sometimes there may be more predictors than datapoints, leading to negative degrees of freedom and a model that won't run.  For these reasons, data scientists interested solely in building a prediction model (with no interest in interpreting the individual parameters) may turn to dimension reduction methods to simplify their feature space while retaining all the predictive power of the original model.\n",
    "\n",
    "The idea is to reduce a matrix of features $X$ into a matrix with fewer columns $R(X)$ where the expected value of $Y$ given $X$ ($E(Y|X)$) is equal to the expected value of $Y$ given $R(X)$. We say \"expected value\" rather than \"predicted value\" to be consistent with the commonly-used mathematical notation, but the meaning is the same – we want a smaller set of features that will produce the same predicted values for $Y$ as our larger number of features.\n",
    "\n",
    "If this is sounding a lot like PCA, you're right.  The difference is that instead of trying to reduce a set of $X$ into a smaller set $R(X)$ that contains all the variance in $X$, we are trying to reduce a set of $X$ into an $R(X)$ that contains all the variance in $X$ that is shared with $Y$.  \n",
    "\n",
    "\n",
    "## Partial least squares regression\n",
    "\n",
    "We call this method **partial least squares regression**, or \"PLSR\". As in PCA, PLSR is iterative. It first tries to find the vector within the $n$-dimensional space of $X$ with the highest covariance with $y$.  Then it looks for a second vector, perpendicular to the first, that explains the highest covariance with $y$ that remains after accounting for the first vector. This continues for as many components as we permit, up to $n$.\n",
    "\n",
    "SciKit-learn has a function to run PLSR:"
   ]
  },
  {
   "cell_type": "code",
   "execution_count": 2,
   "metadata": {
    "collapsed": false
   },
   "outputs": [
    {
     "data": {
      "image/png": "[encoded data removed]",
      "text/plain": [
       "<matplotlib.figure.Figure at 0x281cc10e080>"
      ]
     },
     "metadata": {},
     "output_type": "display_data"
    }
   ],
   "source": [
    "# Number of datapoints in outcome.\n",
    "n = 1000\n",
    "\n",
    "# Number of features.\n",
    "p = 10\n",
    "\n",
    "# Create random normally distributed data for parameters.\n",
    "X = np.random.normal(size=n * p).reshape((n, p))\n",
    "\n",
    "# Create normally distributed outcome related to parameters but with noise.\n",
    "y = X[:, 0] + 2 * X[:, 1] + np.random.normal(size=n * 1) + 5\n",
    "\n",
    "\n",
    "\n",
    "# Check out correlations. First column is the outcome.\n",
    "f, ax = plt.subplots(figsize=(12, 9))\n",
    "corrmat = pd.DataFrame(np.insert(X, 0, y, axis=1)).corr()\n",
    "\n",
    "# Draw the heatmap using seaborn.\n",
    "sns.heatmap(corrmat, vmax=.8, square=True)\n",
    "plt.show()"
   ]
  },
  {
   "cell_type": "code",
   "execution_count": 3,
   "metadata": {
    "collapsed": false
   },
   "outputs": [
    {
     "name": "stdout",
     "output_type": "stream",
     "text": [
      "R-squared regression: 0.8155839982681995\n",
      "R-squared PLSR: 0.8155838573679312\n"
     ]
    },
    {
     "data": {
      "image/png": "[encoded data removed]",
      "text/plain": [
       "<matplotlib.figure.Figure at 0x281cc0f6fd0>"
      ]
     },
     "metadata": {},
     "output_type": "display_data"
    }
   ],
   "source": [
    "# Fit a linear model with all 10 features.\n",
    "regr = linear_model.LinearRegression()\n",
    "regr.fit(X, y)\n",
    "\n",
    "# Save predicted values.\n",
    "Y_pred = regr.predict(X)\n",
    "print('R-squared regression:', regr.score(X, y))\n",
    "\n",
    "# Fit a linear model using Partial Least Squares Regression.\n",
    "# Reduce feature space to 3 dimensions.\n",
    "pls1 = PLSRegression(n_components=3)\n",
    "\n",
    "# Reduce X to R(X) and regress on y.\n",
    "pls1.fit(X, y)\n",
    "\n",
    "# Save predicted values.\n",
    "Y_PLS_pred = pls1.predict(X)\n",
    "print('R-squared PLSR:', pls1.score(X, y))\n"
   ]
  },
  {
   "cell_type": "markdown",
   "metadata": {},
   "source": [
    "PLSR will not work as well if features are uncorrelated, or if the only feature correlations are paired (feature 1 is only correlated with feature 2, feature 3 is only correlated with feature 4, etc).\n",
    "\n",
    "The trick to successful PLSR is to select the right number of components to keep.  Use the cell below to create new partial least square regressions with different numbers of components, then see how those changes affect the ability of your models to reproduce the predicted Y values as well as the regular linear regression.  Typically, you would choose your components based on the number that gives the most consistent performance between training and test datasets.\n",
    "\n",
    "Since this data is randomly generated, you can also play with it by changing how $y$ is computed, then observing how different relationships between $y$ and $X$ play out in PLSR."
   ]
  },
  {
   "cell_type": "code",
   "execution_count": 6,
   "metadata": {
    "collapsed": true
   },
   "outputs": [
    {
     "name": "stdout",
     "output_type": "stream",
     "text": [
      "Number of components: 1\n",
      "R-squared PLSR: 0.8059159670226493\n",
      "Number of components: 2\n",
      "R-squared PLSR: 0.8154972695754826\n",
      "Number of components: 3\n",
      "R-squared PLSR: 0.8155838573679312\n",
      "Number of components: 4\n",
      "R-squared PLSR: 0.8155839979797906\n",
      "Number of components: 5\n",
      "R-squared PLSR: 0.8155839982659605\n",
      "Number of components: 6\n",
      "R-squared PLSR: 0.8155839982681954\n",
      "Number of components: 7\n",
      "R-squared PLSR: 0.8155839982681996\n",
      "Number of components: 8\n",
      "R-squared PLSR: 0.8155839982681995\n",
      "Number of components: 9\n",
      "R-squared PLSR: 0.8155839982681995\n",
      "Number of components: 10\n",
      "R-squared PLSR: 0.8155839982681995\n"
     ]
    }
   ],
   "source": [
    "# Your PLSR models here.\n",
    "for n in range(1, 11):\n",
    "    # Fit a linear model using Partial Least Squares Regression.\n",
    "    # Reduce feature space to 3 dimensions.\n",
    "    pls1 = PLSRegression(n_components=n)\n",
    "\n",
    "    # Reduce X to R(X) and regress on y.\n",
    "    pls1.fit(X, y)\n",
    "\n",
    "    # Save predicted values.\n",
    "    Y_PLS_pred = pls1.predict(X)\n",
    "    print('Number of components:', n)\n",
    "    print('R-squared PLSR:', pls1.score(X, y))"
   ]
  },
  {
   "cell_type": "markdown",
   "metadata": {},
   "source": [
    "It looks like adding additional components has little effect. This means that the data was compressed pretty effectively!"
   ]
  },
  {
   "cell_type": "code",
   "execution_count": null,
   "metadata": {},
   "outputs": [],
   "source": []
  }
 ],
 "metadata": {
  "hide_input": false,
  "kernelspec": {
   "display_name": "Python 3",
   "language": "python",
   "name": "python3"
  },
  "language_info": {
   "codemirror_mode": {
    "name": "ipython",
    "version": 3
   },
   "file_extension": ".py",
   "mimetype": "text/x-python",
   "name": "python",
   "nbconvert_exporter": "python",
   "pygments_lexer": "ipython3",
   "version": "3.6.4"
  },
  "toc": {
   "colors": {
    "hover_highlight": "#DAA520",
    "running_highlight": "#FF0000",
    "selected_highlight": "#FFD700"
   },
   "moveMenuLeft": true,
   "nav_menu": {
    "height": "41px",
    "width": "252px"
   },
   "navigate_menu": true,
   "number_sections": true,
   "sideBar": true,
   "threshold": 4,
   "toc_cell": false,
   "toc_section_display": "block",
   "toc_window_display": false
  }
 },
 "nbformat": 4,
 "nbformat_minor": 2
}
